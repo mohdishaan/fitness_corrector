{
 "cells": [
  {
   "cell_type": "code",
   "execution_count": null,
   "id": "6c07328b-331b-4bae-beb9-38aa014f0fa5",
   "metadata": {},
   "outputs": [
    {
     "name": "stdout",
     "output_type": "stream",
     "text": [
      "Epoch 1/10\n"
     ]
    },
    {
     "name": "stderr",
     "output_type": "stream",
     "text": [
      "C:\\Users\\Mohammad Ishaan\\AppData\\Local\\Programs\\Python\\Python310\\lib\\site-packages\\keras\\src\\layers\\core\\dense.py:87: UserWarning: Do not pass an `input_shape`/`input_dim` argument to a layer. When using Sequential models, prefer using an `Input(shape)` object as the first layer in the model instead.\n",
      "  super().__init__(activity_regularizer=activity_regularizer, **kwargs)\n"
     ]
    }
   ],
   "source": [
    "import pandas as pd\n",
    "import numpy as np\n",
    "from sklearn.model_selection import train_test_split\n",
    "from sklearn.preprocessing import StandardScaler\n",
    "from tensorflow.keras import layers, models\n",
    "import cv2\n",
    "import os\n",
    "import joblib  # For saving/loading scaler\n",
    "from tensorflow.keras.models import load_model\n",
    "from sklearn.metrics import accuracy_score\n",
    "\n",
    "# Load the dataset\n",
    "data = pd.read_csv('exercise_angles.csv')\n",
    "\n",
    "# Separate features and labels\n",
    "X = data.drop(columns=['Side', 'Label']).values  # Features (angles)\n",
    "y = data['Label'].apply(lambda x: 1 if x == 'Jumping Jacks' else 0).values  # Binary labels\n",
    "\n",
    "# Split the data into training and validation sets\n",
    "X_train, X_val, y_train, y_val = train_test_split(X, y, test_size=0.2, random_state=42)\n",
    "\n",
    "# Normalize the features\n",
    "scaler = StandardScaler()\n",
    "X_train = scaler.fit_transform(X_train)\n",
    "X_val = scaler.transform(X_val)\n",
    "\n",
    "# Save the scaler for later use\n",
    "joblib.dump(scaler, 'scaler.pkl')\n",
    "\n",
    "# Build the model\n",
    "model = models.Sequential([\n",
    "    layers.Dense(64, activation='relu', input_shape=(X_train.shape[1],)),\n",
    "    layers.Dense(32, activation='relu'),\n",
    "    layers.Dense(1, activation='sigmoid')  # Binary classification\n",
    "])\n",
    "\n",
    "model.compile(optimizer='adam', loss='binary_crossentropy', metrics=['accuracy'])\n",
    "\n",
    "# Train the model\n",
    "model.fit(X_train, y_train, epochs=10, validation_data=(X_val, y_val))\n",
    "\n",
    "# Save the model\n",
    "model.save('exercise_angle_model.h5')\n",
    "\n",
    "# Evaluate the model\n",
    "y_val_pred = model.predict(X_val)\n",
    "y_val_pred_classes = (y_val_pred > 0.5).astype(int)  # Convert probabilities to binary classes\n",
    "\n",
    "# Calculate accuracy\n",
    "accuracy = accuracy_score(y_val, y_val_pred_classes)\n",
    "print(f'Model Accuracy: {accuracy * 100:.2f}%')\n",
    "\n",
    "# Dummy function for pose estimation (replace with actual implementation)\n",
    "def calculate_angles(frame):\n",
    "    # Use MediaPipe or OpenPose here to extract joint angles from the frame\n",
    "    # This is a placeholder returning random values\n",
    "    return np.random.rand(10)  # Assuming 10 angles as input to the model\n",
    "\n",
    "# Function to analyze angles from a video and provide feedback\n",
    "def analyze_video(video_path):\n",
    "    if not os.path.exists(video_path):\n",
    "        raise FileNotFoundError(f\"Video file not found: {video_path}\")\n",
    "\n",
    "    cap = cv2.VideoCapture(video_path)\n",
    "    if not cap.isOpened():\n",
    "        raise IOError(f\"Error opening video file: {video_path}\")\n",
    "\n",
    "    angles_list = []\n",
    "\n",
    "    while cap.isOpened():\n",
    "        ret, frame = cap.read()\n",
    "        if not ret:\n",
    "            break\n",
    "\n",
    "        # Calculate angles for the frame\n",
    "        angles = calculate_angles(frame)\n",
    "        angles_list.append(angles)\n",
    "\n",
    "    cap.release()\n",
    "\n",
    "    # Convert angles to a format suitable for the model\n",
    "    angles_array = np.array(angles_list)\n",
    "\n",
    "    # Load the scaler\n",
    "    scaler = joblib.load('scaler.pkl')\n",
    "    angles_array = scaler.transform(angles_array)  # Normalize\n",
    "\n",
    "    # Make predictions\n",
    "    predictions = model.predict(angles_array)\n",
    "    results = [\"Correct\" if pred > 0.5 else \"Incorrect\" for pred in predictions]\n",
    "\n",
    "    # Calculate the accuracy score on a scale of 1 to 10\n",
    "    correct_predictions = sum([1 for result in results if result == \"Correct\"])\n",
    "    accuracy_percentage = (correct_predictions / len(results)) * 100\n",
    "    accuracy_score = round(accuracy_percentage / 10)  # Scale to 1-10 range\n",
    "\n",
    "    # Provide feedback based on accuracy\n",
    "    feedback = \"\"\n",
    "    if accuracy_score == 10:\n",
    "        feedback = \"Perfect form! Keep it up!\"\n",
    "    elif accuracy_score >= 8:\n",
    "        feedback = \"Great form! Just a few minor adjustments.\"\n",
    "    elif accuracy_score >= 5:\n",
    "        feedback = \"Fair form. There are some areas to improve.\"\n",
    "    else:\n",
    "        feedback = \"Form needs improvement. Try to focus on technique.\"\n",
    "\n",
    "    return accuracy_score, feedback\n",
    "\n",
    "# Example usage\n",
    "video_name = \"custom_video.mp4\"  # Replace with your video file name\n",
    "video_path = os.path.join(os.getcwd(), video_name)\n",
    "\n",
    "try:\n",
    "    accuracy, feedback = analyze_video(video_path)\n",
    "    print(f\"Form Accuracy: {accuracy}/10\")\n",
    "    print(\"Feedback:\", feedback)\n",
    "except Exception as e:\n",
    "    print(f\"Error: {e}\")\n"
   ]
  },
  {
   "cell_type": "code",
   "execution_count": 14,
   "id": "dc8ad259-af4c-45ba-b3a2-abdc258e5f97",
   "metadata": {},
   "outputs": [
    {
     "name": "stderr",
     "output_type": "stream",
     "text": [
      "C:\\Users\\Mohammad Ishaan\\AppData\\Local\\Programs\\Python\\Python310\\lib\\site-packages\\keras\\src\\layers\\core\\dense.py:87: UserWarning: Do not pass an `input_shape`/`input_dim` argument to a layer. When using Sequential models, prefer using an `Input(shape)` object as the first layer in the model instead.\n",
      "  super().__init__(activity_regularizer=activity_regularizer, **kwargs)\n"
     ]
    },
    {
     "name": "stdout",
     "output_type": "stream",
     "text": [
      "Epoch 1/10\n",
      "\u001b[1m776/776\u001b[0m \u001b[32m━━━━━━━━━━━━━━━━━━━━\u001b[0m\u001b[37m\u001b[0m \u001b[1m6s\u001b[0m 5ms/step - accuracy: 0.8707 - loss: 0.2713 - val_accuracy: 0.9204 - val_loss: 0.1822\n",
      "Epoch 2/10\n",
      "\u001b[1m776/776\u001b[0m \u001b[32m━━━━━━━━━━━━━━━━━━━━\u001b[0m\u001b[37m\u001b[0m \u001b[1m4s\u001b[0m 4ms/step - accuracy: 0.9278 - loss: 0.1649 - val_accuracy: 0.9359 - val_loss: 0.1482\n",
      "Epoch 3/10\n",
      "\u001b[1m776/776\u001b[0m \u001b[32m━━━━━━━━━━━━━━━━━━━━\u001b[0m\u001b[37m\u001b[0m \u001b[1m3s\u001b[0m 4ms/step - accuracy: 0.9430 - loss: 0.1414 - val_accuracy: 0.9455 - val_loss: 0.1300\n",
      "Epoch 4/10\n",
      "\u001b[1m776/776\u001b[0m \u001b[32m━━━━━━━━━━━━━━━━━━━━\u001b[0m\u001b[37m\u001b[0m \u001b[1m3s\u001b[0m 4ms/step - accuracy: 0.9495 - loss: 0.1244 - val_accuracy: 0.9573 - val_loss: 0.1100\n",
      "Epoch 5/10\n",
      "\u001b[1m776/776\u001b[0m \u001b[32m━━━━━━━━━━━━━━━━━━━━\u001b[0m\u001b[37m\u001b[0m \u001b[1m3s\u001b[0m 4ms/step - accuracy: 0.9568 - loss: 0.1090 - val_accuracy: 0.9583 - val_loss: 0.1033\n",
      "Epoch 6/10\n",
      "\u001b[1m776/776\u001b[0m \u001b[32m━━━━━━━━━━━━━━━━━━━━\u001b[0m\u001b[37m\u001b[0m \u001b[1m5s\u001b[0m 4ms/step - accuracy: 0.9581 - loss: 0.1042 - val_accuracy: 0.9604 - val_loss: 0.0983\n",
      "Epoch 7/10\n",
      "\u001b[1m776/776\u001b[0m \u001b[32m━━━━━━━━━━━━━━━━━━━━\u001b[0m\u001b[37m\u001b[0m \u001b[1m3s\u001b[0m 4ms/step - accuracy: 0.9650 - loss: 0.0920 - val_accuracy: 0.9670 - val_loss: 0.0898\n",
      "Epoch 8/10\n",
      "\u001b[1m776/776\u001b[0m \u001b[32m━━━━━━━━━━━━━━━━━━━━\u001b[0m\u001b[37m\u001b[0m \u001b[1m6s\u001b[0m 5ms/step - accuracy: 0.9631 - loss: 0.0955 - val_accuracy: 0.9662 - val_loss: 0.0930\n",
      "Epoch 9/10\n",
      "\u001b[1m776/776\u001b[0m \u001b[32m━━━━━━━━━━━━━━━━━━━━\u001b[0m\u001b[37m\u001b[0m \u001b[1m4s\u001b[0m 5ms/step - accuracy: 0.9667 - loss: 0.0889 - val_accuracy: 0.9684 - val_loss: 0.0894\n",
      "Epoch 10/10\n",
      "\u001b[1m776/776\u001b[0m \u001b[32m━━━━━━━━━━━━━━━━━━━━\u001b[0m\u001b[37m\u001b[0m \u001b[1m5s\u001b[0m 5ms/step - accuracy: 0.9641 - loss: 0.0926 - val_accuracy: 0.9646 - val_loss: 0.0980\n"
     ]
    },
    {
     "name": "stderr",
     "output_type": "stream",
     "text": [
      "WARNING:absl:You are saving your model as an HDF5 file via `model.save()` or `keras.saving.save_model(model)`. This file format is considered legacy. We recommend using instead the native Keras format, e.g. `model.save('my_model.keras')` or `keras.saving.save_model(model, 'my_model.keras')`. \n"
     ]
    }
   ],
   "source": []
  },
  {
   "cell_type": "code",
   "execution_count": 15,
   "id": "8129163a-a39a-4315-9bb1-28b9b41e1641",
   "metadata": {},
   "outputs": [
    {
     "name": "stdout",
     "output_type": "stream",
     "text": [
      "\u001b[1m194/194\u001b[0m \u001b[32m━━━━━━━━━━━━━━━━━━━━\u001b[0m\u001b[37m\u001b[0m \u001b[1m1s\u001b[0m 3ms/step   \n",
      "Model Accuracy: 96.46%\n"
     ]
    }
   ],
   "source": []
  },
  {
   "cell_type": "code",
   "execution_count": 16,
   "id": "9be38ceb-d4d6-498b-94a8-42b4d8bdeaf0",
   "metadata": {},
   "outputs": [
    {
     "name": "stdout",
     "output_type": "stream",
     "text": [
      "\u001b[1m11/11\u001b[0m \u001b[32m━━━━━━━━━━━━━━━━━━━━\u001b[0m\u001b[37m\u001b[0m \u001b[1m0s\u001b[0m 7ms/step \n",
      "Form Analysis Results: ['Incorrect', 'Incorrect', 'Incorrect', 'Incorrect', 'Incorrect', 'Incorrect', 'Incorrect', 'Incorrect', 'Incorrect', 'Incorrect', 'Incorrect', 'Incorrect', 'Incorrect', 'Incorrect', 'Incorrect', 'Incorrect', 'Incorrect', 'Incorrect', 'Incorrect', 'Incorrect', 'Incorrect', 'Incorrect', 'Incorrect', 'Incorrect', 'Incorrect', 'Incorrect', 'Incorrect', 'Incorrect', 'Incorrect', 'Incorrect', 'Incorrect', 'Incorrect', 'Incorrect', 'Incorrect', 'Incorrect', 'Incorrect', 'Incorrect', 'Incorrect', 'Incorrect', 'Incorrect', 'Incorrect', 'Incorrect', 'Incorrect', 'Incorrect', 'Incorrect', 'Incorrect', 'Incorrect', 'Incorrect', 'Incorrect', 'Incorrect', 'Incorrect', 'Incorrect', 'Incorrect', 'Incorrect', 'Incorrect', 'Incorrect', 'Incorrect', 'Incorrect', 'Incorrect', 'Incorrect', 'Incorrect', 'Incorrect', 'Incorrect', 'Incorrect', 'Incorrect', 'Incorrect', 'Incorrect', 'Incorrect', 'Incorrect', 'Incorrect', 'Incorrect', 'Incorrect', 'Incorrect', 'Incorrect', 'Incorrect', 'Incorrect', 'Incorrect', 'Incorrect', 'Incorrect', 'Incorrect', 'Incorrect', 'Incorrect', 'Incorrect', 'Incorrect', 'Incorrect', 'Incorrect', 'Incorrect', 'Incorrect', 'Incorrect', 'Incorrect', 'Incorrect', 'Incorrect', 'Incorrect', 'Incorrect', 'Incorrect', 'Incorrect', 'Incorrect', 'Incorrect', 'Incorrect', 'Incorrect', 'Incorrect', 'Incorrect', 'Incorrect', 'Incorrect', 'Incorrect', 'Incorrect', 'Incorrect', 'Incorrect', 'Incorrect', 'Incorrect', 'Incorrect', 'Incorrect', 'Incorrect', 'Incorrect', 'Incorrect', 'Incorrect', 'Incorrect', 'Incorrect', 'Incorrect', 'Incorrect', 'Incorrect', 'Incorrect', 'Incorrect', 'Incorrect', 'Incorrect', 'Incorrect', 'Incorrect', 'Incorrect', 'Incorrect', 'Incorrect', 'Incorrect', 'Incorrect', 'Incorrect', 'Incorrect', 'Incorrect', 'Incorrect', 'Incorrect', 'Incorrect', 'Incorrect', 'Incorrect', 'Incorrect', 'Incorrect', 'Incorrect', 'Incorrect', 'Incorrect', 'Incorrect', 'Incorrect', 'Incorrect', 'Incorrect', 'Incorrect', 'Incorrect', 'Incorrect', 'Incorrect', 'Incorrect', 'Incorrect', 'Incorrect', 'Incorrect', 'Incorrect', 'Incorrect', 'Incorrect', 'Incorrect', 'Incorrect', 'Incorrect', 'Incorrect', 'Incorrect', 'Incorrect', 'Incorrect', 'Incorrect', 'Incorrect', 'Incorrect', 'Incorrect', 'Incorrect', 'Incorrect', 'Incorrect', 'Incorrect', 'Incorrect', 'Incorrect', 'Incorrect', 'Incorrect', 'Incorrect', 'Incorrect', 'Incorrect', 'Incorrect', 'Incorrect', 'Incorrect', 'Incorrect', 'Incorrect', 'Incorrect', 'Incorrect', 'Incorrect', 'Incorrect', 'Incorrect', 'Incorrect', 'Incorrect', 'Incorrect', 'Incorrect', 'Incorrect', 'Incorrect', 'Incorrect', 'Incorrect', 'Incorrect', 'Incorrect', 'Incorrect', 'Incorrect', 'Incorrect', 'Incorrect', 'Incorrect', 'Incorrect', 'Incorrect', 'Incorrect', 'Incorrect', 'Incorrect', 'Incorrect', 'Incorrect', 'Incorrect', 'Incorrect', 'Incorrect', 'Incorrect', 'Incorrect', 'Incorrect', 'Incorrect', 'Incorrect', 'Incorrect', 'Incorrect', 'Incorrect', 'Incorrect', 'Incorrect', 'Incorrect', 'Incorrect', 'Incorrect', 'Incorrect', 'Incorrect', 'Incorrect', 'Incorrect', 'Incorrect', 'Incorrect', 'Incorrect', 'Incorrect', 'Incorrect', 'Incorrect', 'Incorrect', 'Incorrect', 'Incorrect', 'Incorrect', 'Incorrect', 'Incorrect', 'Incorrect', 'Incorrect', 'Incorrect', 'Incorrect', 'Incorrect', 'Incorrect', 'Incorrect', 'Incorrect', 'Incorrect', 'Incorrect', 'Incorrect', 'Incorrect', 'Incorrect', 'Incorrect', 'Incorrect', 'Incorrect', 'Incorrect', 'Incorrect', 'Incorrect', 'Incorrect', 'Incorrect', 'Incorrect', 'Incorrect', 'Incorrect', 'Incorrect', 'Incorrect', 'Incorrect', 'Incorrect', 'Incorrect', 'Incorrect', 'Incorrect', 'Incorrect', 'Incorrect', 'Incorrect', 'Incorrect', 'Incorrect', 'Incorrect', 'Incorrect', 'Incorrect', 'Incorrect', 'Incorrect', 'Incorrect', 'Incorrect', 'Incorrect', 'Incorrect', 'Incorrect', 'Incorrect', 'Incorrect', 'Incorrect', 'Incorrect', 'Incorrect', 'Incorrect', 'Incorrect', 'Incorrect', 'Incorrect', 'Incorrect', 'Incorrect', 'Incorrect', 'Incorrect', 'Incorrect', 'Incorrect', 'Incorrect', 'Incorrect', 'Incorrect', 'Incorrect', 'Incorrect', 'Incorrect', 'Incorrect', 'Incorrect', 'Incorrect', 'Incorrect', 'Incorrect', 'Incorrect', 'Incorrect', 'Incorrect', 'Incorrect', 'Incorrect', 'Incorrect', 'Incorrect', 'Incorrect', 'Incorrect', 'Incorrect', 'Incorrect', 'Incorrect', 'Incorrect', 'Incorrect', 'Incorrect', 'Incorrect', 'Incorrect', 'Incorrect', 'Incorrect', 'Incorrect']\n"
     ]
    }
   ],
   "source": []
  },
  {
   "cell_type": "code",
   "execution_count": null,
   "id": "ef02f091-8b28-457f-9ec1-52d37a5a96c4",
   "metadata": {},
   "outputs": [],
   "source": []
  }
 ],
 "metadata": {
  "kernelspec": {
   "display_name": "Python 3 (ipykernel)",
   "language": "python",
   "name": "python3"
  },
  "language_info": {
   "codemirror_mode": {
    "name": "ipython",
    "version": 3
   },
   "file_extension": ".py",
   "mimetype": "text/x-python",
   "name": "python",
   "nbconvert_exporter": "python",
   "pygments_lexer": "ipython3",
   "version": "3.10.11"
  }
 },
 "nbformat": 4,
 "nbformat_minor": 5
}
