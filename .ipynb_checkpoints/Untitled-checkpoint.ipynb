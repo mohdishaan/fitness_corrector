{
 "cells": [
  {
   "cell_type": "code",
   "execution_count": 12,
   "id": "6c07328b-331b-4bae-beb9-38aa014f0fa5",
   "metadata": {},
   "outputs": [
    {
     "name": "stdout",
     "output_type": "stream",
     "text": [
      "Requirement already satisfied: joblib in c:\\users\\mohammad ishaan\\appdata\\local\\programs\\python\\python310\\lib\\site-packages (1.4.2)\n"
     ]
    },
    {
     "data": {
      "text/plain": [
       "['scaler.pkl']"
      ]
     },
     "execution_count": 12,
     "metadata": {},
     "output_type": "execute_result"
    }
   ],
   "source": [
    "import pandas as pd\n",
    "import numpy as np\n",
    "from sklearn.model_selection import train_test_split\n",
    "from sklearn.preprocessing import StandardScaler\n",
    "from tensorflow.keras import layers, models\n",
    "import cv2\n",
    "import os\n",
    "import joblib  # For saving/loading scaler\n",
    "from tensorflow.keras.models import load_model\n",
    "from sklearn.metrics import accuracy_score\n",
    "import sys\n",
    "sys.path.append(\"C:\\\\Users\\\\Mohammad Ishaan\\\\AppData\\\\Local\\\\Programs\\\\Python\\\\Python310\\\\Lib\\\\site-packages\")\n",
    "\n",
    "import joblib\n",
    "\n",
    "\n",
    "# Load the dataset\n",
    "data = pd.read_csv('exercise_angles.csv')\n",
    "\n",
    "# Separate features and labels\n",
    "X = data.drop(columns=['Side', 'Label']).values  # Features (angles)\n",
    "y = data['Label'].apply(lambda x: 1 if x == 'Jumping Jacks' else 0).values  # Binary labels\n",
    "\n",
    "# Split the data into training and validation sets\n",
    "X_train, X_val, y_train, y_val = train_test_split(X, y, test_size=0.2, random_state=42)\n",
    "\n",
    "# Normalize the features\n",
    "scaler = StandardScaler()\n",
    "X_train = scaler.fit_transform(X_train)\n",
    "X_val = scaler.transform(X_val)\n",
    "# Save the scaler for later use\n",
    "joblib.dump(scaler, 'scaler.pkl')"
   ]
  },
  {
   "cell_type": "code",
   "execution_count": 6,
   "id": "dc8ad259-af4c-45ba-b3a2-abdc258e5f97",
   "metadata": {},
   "outputs": [
    {
     "name": "stderr",
     "output_type": "stream",
     "text": [
      "C:\\Users\\Mohammad Ishaan\\AppData\\Local\\Programs\\Python\\Python310\\lib\\site-packages\\keras\\src\\layers\\core\\dense.py:87: UserWarning: Do not pass an `input_shape`/`input_dim` argument to a layer. When using Sequential models, prefer using an `Input(shape)` object as the first layer in the model instead.\n",
      "  super().__init__(activity_regularizer=activity_regularizer, **kwargs)\n"
     ]
    },
    {
     "name": "stdout",
     "output_type": "stream",
     "text": [
      "Epoch 1/10\n",
      "\u001b[1m776/776\u001b[0m \u001b[32m━━━━━━━━━━━━━━━━━━━━\u001b[0m\u001b[37m\u001b[0m \u001b[1m9s\u001b[0m 7ms/step - accuracy: 0.8682 - loss: 0.2822 - val_accuracy: 0.9161 - val_loss: 0.1913\n",
      "Epoch 2/10\n",
      "\u001b[1m776/776\u001b[0m \u001b[32m━━━━━━━━━━━━━━━━━━━━\u001b[0m\u001b[37m\u001b[0m \u001b[1m4s\u001b[0m 5ms/step - accuracy: 0.9252 - loss: 0.1721 - val_accuracy: 0.9370 - val_loss: 0.1538\n",
      "Epoch 3/10\n",
      "\u001b[1m776/776\u001b[0m \u001b[32m━━━━━━━━━━━━━━━━━━━━\u001b[0m\u001b[37m\u001b[0m \u001b[1m5s\u001b[0m 5ms/step - accuracy: 0.9417 - loss: 0.1447 - val_accuracy: 0.9476 - val_loss: 0.1303\n",
      "Epoch 4/10\n",
      "\u001b[1m776/776\u001b[0m \u001b[32m━━━━━━━━━━━━━━━━━━━━\u001b[0m\u001b[37m\u001b[0m \u001b[1m5s\u001b[0m 6ms/step - accuracy: 0.9495 - loss: 0.1266 - val_accuracy: 0.9534 - val_loss: 0.1154\n",
      "Epoch 5/10\n",
      "\u001b[1m776/776\u001b[0m \u001b[32m━━━━━━━━━━━━━━━━━━━━\u001b[0m\u001b[37m\u001b[0m \u001b[1m4s\u001b[0m 5ms/step - accuracy: 0.9569 - loss: 0.1091 - val_accuracy: 0.9605 - val_loss: 0.1104\n",
      "Epoch 6/10\n",
      "\u001b[1m776/776\u001b[0m \u001b[32m━━━━━━━━━━━━━━━━━━━━\u001b[0m\u001b[37m\u001b[0m \u001b[1m4s\u001b[0m 6ms/step - accuracy: 0.9564 - loss: 0.1061 - val_accuracy: 0.9634 - val_loss: 0.1007\n",
      "Epoch 7/10\n",
      "\u001b[1m776/776\u001b[0m \u001b[32m━━━━━━━━━━━━━━━━━━━━\u001b[0m\u001b[37m\u001b[0m \u001b[1m4s\u001b[0m 5ms/step - accuracy: 0.9606 - loss: 0.0999 - val_accuracy: 0.9617 - val_loss: 0.0967\n",
      "Epoch 8/10\n",
      "\u001b[1m776/776\u001b[0m \u001b[32m━━━━━━━━━━━━━━━━━━━━\u001b[0m\u001b[37m\u001b[0m \u001b[1m4s\u001b[0m 5ms/step - accuracy: 0.9607 - loss: 0.0980 - val_accuracy: 0.9625 - val_loss: 0.0967\n",
      "Epoch 9/10\n",
      "\u001b[1m776/776\u001b[0m \u001b[32m━━━━━━━━━━━━━━━━━━━━\u001b[0m\u001b[37m\u001b[0m \u001b[1m4s\u001b[0m 5ms/step - accuracy: 0.9650 - loss: 0.0925 - val_accuracy: 0.9681 - val_loss: 0.0874\n",
      "Epoch 10/10\n",
      "\u001b[1m776/776\u001b[0m \u001b[32m━━━━━━━━━━━━━━━━━━━━\u001b[0m\u001b[37m\u001b[0m \u001b[1m4s\u001b[0m 5ms/step - accuracy: 0.9685 - loss: 0.0830 - val_accuracy: 0.9655 - val_loss: 0.0934\n"
     ]
    },
    {
     "name": "stderr",
     "output_type": "stream",
     "text": [
      "WARNING:absl:You are saving your model as an HDF5 file via `model.save()` or `keras.saving.save_model(model)`. This file format is considered legacy. We recommend using instead the native Keras format, e.g. `model.save('my_model.keras')` or `keras.saving.save_model(model, 'my_model.keras')`. \n"
     ]
    }
   ],
   "source": [
    "# Build the model\n",
    "model = models.Sequential([\n",
    "    layers.Dense(64, activation='relu', input_shape=(X_train.shape[1],)),\n",
    "    layers.Dense(32, activation='relu'),\n",
    "    layers.Dense(1, activation='sigmoid')  # Binary classification\n",
    "])\n",
    "\n",
    "model.compile(optimizer='adam', loss='binary_crossentropy', metrics=['accuracy'])\n",
    "\n",
    "# Train the model\n",
    "model.fit(X_train, y_train, epochs=10, validation_data=(X_val, y_val))\n",
    "\n",
    "# Save the model\n",
    "model.save('exercise_angle_model.h5')"
   ]
  },
  {
   "cell_type": "code",
   "execution_count": null,
   "id": "8129163a-a39a-4315-9bb1-28b9b41e1641",
   "metadata": {},
   "outputs": [],
   "source": [
    "# Evaluate the model\n",
    "y_val_pred = model.predict(X_val)\n",
    "y_val_pred_classes = (y_val_pred > 0.5).astype(int)  # Convert probabilities to binary classes\n",
    "\n",
    "# Calculate accuracy\n",
    "accuracy = accuracy_score(y_val, y_val_pred_classes)\n",
    "print(f'Model Accuracy: {accuracy * 100:.2f}%')"
   ]
  },
  {
   "cell_type": "code",
   "execution_count": 11,
   "id": "9be38ceb-d4d6-498b-94a8-42b4d8bdeaf0",
   "metadata": {},
   "outputs": [
    {
     "name": "stdout",
     "output_type": "stream",
     "text": [
      "Error: name 'joblib' is not defined\n"
     ]
    }
   ],
   "source": [
    "# Function to calculate angles from a video frame (Dummy placeholder)\n",
    "def calculate_angles(frame):\n",
    "    # Use pose estimation library like MediaPipe or OpenPose here\n",
    "    # This is a placeholder function returning random values\n",
    "    return np.random.rand(10)  # Assuming 10 angles as input to the model\n",
    "\n",
    "# Function to analyze angles from a video\n",
    "def analyze_video(video_path):\n",
    "    if not os.path.exists(video_path):\n",
    "        raise FileNotFoundError(f\"Video file not found: {video_path}\")\n",
    "\n",
    "    cap = cv2.VideoCapture(video_path)\n",
    "    if not cap.isOpened():\n",
    "        raise IOError(f\"Error opening video file: {video_path}\")\n",
    "\n",
    "    angles_list = []\n",
    "\n",
    "    while cap.isOpened():\n",
    "        ret, frame = cap.read()\n",
    "        if not ret:\n",
    "            break\n",
    "\n",
    "        # Calculate angles for the frame\n",
    "        angles = calculate_angles(frame)\n",
    "        angles_list.append(angles)\n",
    "\n",
    "    cap.release()\n",
    "\n",
    "    # Convert angles to a format suitable for the model\n",
    "    angles_array = np.array(angles_list)\n",
    "\n",
    "    # Load the scaler\n",
    "    scaler = joblib.load('scaler.pkl')\n",
    "    angles_array = scaler.transform(angles_array)  # Normalize\n",
    "\n",
    "    # Make predictions\n",
    "    predictions = model.predict(angles_array)\n",
    "    results = [\"Correct\" if pred > 0.5 else \"Incorrect\" for pred in predictions]\n",
    "\n",
    "    return results\n",
    "\n",
    "# Example usage\n",
    "video_name = \"custom_video.mp4\"  # Replace with your video file name\n",
    "video_path = os.path.join(os.getcwd(), video_name)\n",
    "\n",
    "try:\n",
    "    results = analyze_video(video_path)\n",
    "    print(\"Form Analysis Results:\", results)\n",
    "except Exception as e:\n",
    "    print(f\"Error: {e}\")"
   ]
  },
  {
   "cell_type": "code",
   "execution_count": null,
   "id": "ef02f091-8b28-457f-9ec1-52d37a5a96c4",
   "metadata": {},
   "outputs": [],
   "source": []
  }
 ],
 "metadata": {
  "kernelspec": {
   "display_name": "Python 3 (ipykernel)",
   "language": "python",
   "name": "python3"
  },
  "language_info": {
   "codemirror_mode": {
    "name": "ipython",
    "version": 3
   },
   "file_extension": ".py",
   "mimetype": "text/x-python",
   "name": "python",
   "nbconvert_exporter": "python",
   "pygments_lexer": "ipython3",
   "version": "3.10.11"
  }
 },
 "nbformat": 4,
 "nbformat_minor": 5
}
